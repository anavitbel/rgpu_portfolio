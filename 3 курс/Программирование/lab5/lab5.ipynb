{
  "nbformat": 4,
  "nbformat_minor": 0,
  "metadata": {
    "colab": {
      "name": "Беленко А.В. lab5",
      "provenance": [],
      "collapsed_sections": []
    },
    "kernelspec": {
      "name": "python3",
      "display_name": "Python 3"
    }
  },
  "cells": [
    {
      "cell_type": "markdown",
      "metadata": {
        "id": "JRyM5gjqrD4d"
      },
      "source": [
        "# Лабораторная работа 5. Визуализация данных о погоде с помощью matplotlib. \n",
        "\n",
        "Цель работы: научиться обрабатывать и визуализировать данные, \n",
        "полученные с помощью API (на примере сервиса openweathermap).\n",
        "\n",
        "Описание работы: получить данные о погоде за 5 последний дней и визуализировать эти данные, используя диаграмму рассеяния (scatterplot). \n",
        "Затем, посчитать среднюю температуру за каждый день и построить рядом (на этом же изображении) линейную диаграмму изменения температур.\n",
        "\n",
        "Замечание: можно использовать другие сервисы для получения прогноза погоды на 7 дней (gismeteo, pogoda.yandex.ru), но сигнатура функций должна быть такая же как в примере ниже.\n",
        "\n",
        "\n",
        "Лабораторная работа состоит из 2-х основных частей:\n",
        "1. Получение данных посредством API.\n",
        "2. Визуализация данных.\n",
        "\n",
        "Выполним все этапы и визуализируем данные о погоде только за вчерашний день: 01.11.2021.\n",
        "\n",
        "Начнем с части 1: получим данные в формате json через API openweathermap"
      ]
    },
    {
      "cell_type": "code",
      "metadata": {
        "colab": {
          "base_uri": "https://localhost:8080/"
        },
        "id": "MARUwWRv3tR0",
        "outputId": "de79db95-5e32-474a-95d9-300d00c3e3c3"
      },
      "source": [
        "# example of one call api openweathermap\n",
        "\n",
        "import requests\n",
        "import json\n",
        "\n",
        "city, lat, lon = \"Saint Petersburg, RU\", 33.44, -94.04\n",
        "api_key = '26f1cc6b039373fdded0b5855a718b65'\n",
        "dt = 1640034315\n",
        "req = requests.get(\n",
        "            f'http://api.openweathermap.org/data/2.5/'\n",
        "            f'onecall/timemachine?lat={lat}&lon={lon}&dt={dt}&'\n",
        "            f'appid={api_key}&lang=ru&units=metric')\n",
        "\n",
        "req_obj = json.loads(req.text)  # Преобразуем объект типа Request в json-формат\n",
        "print(req_obj)"
      ],
      "execution_count": 6,
      "outputs": [
        {
          "output_type": "stream",
          "name": "stdout",
          "text": [
            "{'lat': 33.44, 'lon': -94.04, 'timezone': 'America/Chicago', 'timezone_offset': -21600, 'current': {'dt': 1640034315, 'sunrise': 1640006156, 'sunset': 1640041914, 'temp': 4.6, 'feels_like': 3.71, 'pressure': 1023, 'humidity': 84, 'dew_point': 2.13, 'uvi': 0.21, 'clouds': 90, 'visibility': 10000, 'wind_speed': 1.34, 'wind_deg': 103, 'wind_gust': 2.68, 'weather': [{'id': 804, 'main': 'Clouds', 'description': 'пасмурно', 'icon': '04d'}]}, 'hourly': [{'dt': 1639958400, 'temp': 5.01, 'feels_like': 3.91, 'pressure': 1025, 'humidity': 67, 'dew_point': -0.53, 'uvi': 0, 'clouds': 1, 'visibility': 10000, 'wind_speed': 1.54, 'wind_deg': 10, 'weather': [{'id': 500, 'main': 'Rain', 'description': 'небольшой дождь', 'icon': '10n'}], 'rain': {'1h': 0.25}}, {'dt': 1639962000, 'temp': 3.15, 'feels_like': 3.15, 'pressure': 1025, 'humidity': 80, 'dew_point': 0.04, 'uvi': 0, 'clouds': 1, 'visibility': 10000, 'wind_speed': 0.89, 'wind_deg': 154, 'wind_gust': 1.79, 'weather': [{'id': 800, 'main': 'Clear', 'description': 'ясно', 'icon': '01n'}]}, {'dt': 1639965600, 'temp': 2.95, 'feels_like': 2.95, 'pressure': 1025, 'humidity': 79, 'dew_point': -0.29, 'uvi': 0, 'clouds': 1, 'visibility': 10000, 'wind_speed': 0.45, 'wind_deg': 78, 'wind_gust': 2.24, 'weather': [{'id': 800, 'main': 'Clear', 'description': 'ясно', 'icon': '01n'}]}, {'dt': 1639969200, 'temp': 2.89, 'feels_like': 2.89, 'pressure': 1026, 'humidity': 76, 'dew_point': -0.81, 'uvi': 0, 'clouds': 1, 'visibility': 10000, 'wind_speed': 0.45, 'wind_deg': 127, 'wind_gust': 1.79, 'weather': [{'id': 800, 'main': 'Clear', 'description': 'ясно', 'icon': '01n'}]}, {'dt': 1639972800, 'temp': 2.21, 'feels_like': 1.01, 'pressure': 1026, 'humidity': 79, 'dew_point': -0.93, 'uvi': 0, 'clouds': 1, 'visibility': 10000, 'wind_speed': 1.34, 'wind_deg': 94, 'wind_gust': 3.58, 'weather': [{'id': 800, 'main': 'Clear', 'description': 'ясно', 'icon': '01n'}]}, {'dt': 1639976400, 'temp': 2.48, 'feels_like': 0.68, 'pressure': 1025, 'humidity': 78, 'dew_point': -0.85, 'uvi': 0, 'clouds': 1, 'visibility': 10000, 'wind_speed': 1.79, 'wind_deg': 109, 'wind_gust': 5.36, 'weather': [{'id': 800, 'main': 'Clear', 'description': 'ясно', 'icon': '01n'}]}, {'dt': 1639980000, 'temp': 1.67, 'feels_like': -0.78, 'pressure': 1025, 'humidity': 82, 'dew_point': -0.94, 'uvi': 0, 'clouds': 1, 'visibility': 10000, 'wind_speed': 2.24, 'wind_deg': 124, 'wind_gust': 4.47, 'weather': [{'id': 800, 'main': 'Clear', 'description': 'ясно', 'icon': '01n'}]}, {'dt': 1639983600, 'temp': 0.61, 'feels_like': -1.12, 'pressure': 1024, 'humidity': 87, 'dew_point': -1.15, 'uvi': 0, 'clouds': 1, 'visibility': 10000, 'wind_speed': 1.54, 'wind_deg': 60, 'weather': [{'id': 800, 'main': 'Clear', 'description': 'ясно', 'icon': '01n'}]}, {'dt': 1639987200, 'temp': 0.18, 'feels_like': 0.18, 'pressure': 1024, 'humidity': 88, 'dew_point': -1.39, 'uvi': 0, 'clouds': 1, 'visibility': 10000, 'wind_speed': 0.45, 'wind_deg': 70, 'wind_gust': 1.34, 'weather': [{'id': 800, 'main': 'Clear', 'description': 'ясно', 'icon': '01n'}]}, {'dt': 1639990800, 'temp': -0.09, 'feels_like': -0.09, 'pressure': 1024, 'humidity': 89, 'dew_point': -1.5, 'uvi': 0, 'clouds': 1, 'visibility': 10000, 'wind_speed': 0.45, 'wind_deg': 70, 'wind_gust': 1.34, 'weather': [{'id': 800, 'main': 'Clear', 'description': 'ясно', 'icon': '01n'}]}, {'dt': 1639994400, 'temp': 0.17, 'feels_like': 0.17, 'pressure': 1024, 'humidity': 89, 'dew_point': -1.26, 'uvi': 0, 'clouds': 1, 'visibility': 10000, 'wind_speed': 0.45, 'wind_deg': 127, 'wind_gust': 1.79, 'weather': [{'id': 800, 'main': 'Clear', 'description': 'ясно', 'icon': '01n'}]}, {'dt': 1639998000, 'temp': 1.18, 'feels_like': 1.18, 'pressure': 1025, 'humidity': 86, 'dew_point': -0.79, 'uvi': 0, 'clouds': 75, 'visibility': 10000, 'wind_speed': 0.89, 'wind_deg': 70, 'wind_gust': 2.68, 'weather': [{'id': 803, 'main': 'Clouds', 'description': 'облачно с прояснениями', 'icon': '04n'}]}, {'dt': 1640001600, 'temp': 1.46, 'feels_like': 1.46, 'pressure': 1024, 'humidity': 85, 'dew_point': -0.69, 'uvi': 0, 'clouds': 75, 'visibility': 10000, 'wind_speed': 0.45, 'wind_deg': 64, 'wind_gust': 1.34, 'weather': [{'id': 803, 'main': 'Clouds', 'description': 'облачно с прояснениями', 'icon': '04n'}]}, {'dt': 1640005200, 'temp': 1.71, 'feels_like': 1.71, 'pressure': 1025, 'humidity': 84, 'dew_point': -0.62, 'uvi': 0, 'clouds': 90, 'visibility': 10000, 'wind_speed': 0, 'wind_deg': 0, 'weather': [{'id': 804, 'main': 'Clouds', 'description': 'пасмурно', 'icon': '04n'}]}, {'dt': 1640008800, 'temp': 1.69, 'feels_like': 1.69, 'pressure': 1025, 'humidity': 89, 'dew_point': 0.07, 'uvi': 0.04, 'clouds': 90, 'visibility': 10000, 'wind_speed': 0.89, 'wind_deg': 31, 'wind_gust': 3.58, 'weather': [{'id': 500, 'main': 'Rain', 'description': 'небольшой дождь', 'icon': '10d'}]}, {'dt': 1640012400, 'temp': 1.62, 'feels_like': 0.34, 'pressure': 1025, 'humidity': 92, 'dew_point': 0.46, 'uvi': 0.19, 'clouds': 90, 'visibility': 8047, 'wind_speed': 1.34, 'wind_deg': 12, 'wind_gust': 2.68, 'weather': [{'id': 500, 'main': 'Rain', 'description': 'небольшой дождь', 'icon': '10d'}, {'id': 701, 'main': 'Mist', 'description': 'туман', 'icon': '50d'}], 'rain': {'1h': 0.25}}, {'dt': 1640016000, 'temp': 2.25, 'feels_like': -0.52, 'pressure': 1025, 'humidity': 89, 'dew_point': 0.63, 'uvi': 0.41, 'clouds': 90, 'visibility': 3219, 'wind_speed': 2.68, 'wind_deg': 107, 'wind_gust': 4.47, 'weather': [{'id': 701, 'main': 'Mist', 'description': 'туман', 'icon': '50d'}, {'id': 500, 'main': 'Rain', 'description': 'небольшой дождь', 'icon': '10d'}], 'rain': {'1h': 0.25}}, {'dt': 1640019600, 'temp': 2.58, 'feels_like': 0.8, 'pressure': 1025, 'humidity': 88, 'dew_point': 0.8, 'uvi': 0.65, 'clouds': 90, 'visibility': 10000, 'wind_speed': 1.79, 'wind_deg': 111, 'wind_gust': 3.58, 'weather': [{'id': 500, 'main': 'Rain', 'description': 'небольшой дождь', 'icon': '10d'}], 'rain': {'1h': 0.25}}, {'dt': 1640023200, 'temp': 2.86, 'feels_like': 1.75, 'pressure': 1024, 'humidity': 88, 'dew_point': 1.07, 'uvi': 0.8, 'clouds': 90, 'visibility': 10000, 'wind_speed': 1.34, 'wind_deg': 309, 'wind_gust': 3.13, 'weather': [{'id': 500, 'main': 'Rain', 'description': 'небольшой дождь', 'icon': '10d'}], 'rain': {'1h': 0.25}}, {'dt': 1640026800, 'temp': 3.53, 'feels_like': 3.53, 'pressure': 1023, 'humidity': 87, 'dew_point': 1.57, 'uvi': 0.5, 'clouds': 90, 'visibility': 9656, 'wind_speed': 0.45, 'wind_deg': 70, 'wind_gust': 3.58, 'weather': [{'id': 500, 'main': 'Rain', 'description': 'небольшой дождь', 'icon': '10d'}, {'id': 701, 'main': 'Mist', 'description': 'туман', 'icon': '50d'}]}, {'dt': 1640030400, 'temp': 3.8, 'feels_like': 2.52, 'pressure': 1023, 'humidity': 87, 'dew_point': 1.84, 'uvi': 0.38, 'clouds': 90, 'visibility': 10000, 'wind_speed': 1.54, 'wind_deg': 150, 'weather': [{'id': 500, 'main': 'Rain', 'description': 'небольшой дождь', 'icon': '10d'}]}, {'dt': 1640034000, 'temp': 4.6, 'feels_like': 3.71, 'pressure': 1023, 'humidity': 84, 'dew_point': 2.13, 'uvi': 0.21, 'clouds': 90, 'visibility': 10000, 'wind_speed': 1.34, 'wind_deg': 103, 'wind_gust': 2.68, 'weather': [{'id': 804, 'main': 'Clouds', 'description': 'пасмурно', 'icon': '04d'}]}]}\n"
          ]
        }
      ]
    },
    {
      "cell_type": "code",
      "metadata": {
        "id": "4OGsISP8rk5C"
      },
      "source": [
        "# key = \"YOUR_PERSONAL_KEY_IS_HERE\"\n",
        "\n",
        "def getweather(api_key=None):\n",
        "    import json\n",
        "    import requests\n",
        "    city, lat, lon = \"Saint Petersburg, RU\", 59.57, 30.19\n",
        "\n",
        "    dt = 1640034315  # datetime of 01/11/2021 in unix-like format\n",
        "    # Для определения unixtime диапазона для получения температур, \n",
        "    # можно использовать сервис https://unixtime-converter.com/\n",
        "\n",
        "    if api_key:\n",
        "        result = dict()\n",
        "        req = requests.get(\n",
        "            f'http://api.openweathermap.org/data/2.5/'\n",
        "            f'onecall/timemachine?lat={lat}&lon={lon}&dt={dt}&'\n",
        "            f'appid={api_key}&lang=ru&units=metric')\n",
        "        \n",
        "        # для других параметров см. https://openweathermap.org/api/one-call-api#history\n",
        "\n",
        "        req_obj = json.loads(req.text)  # Преобразуем объект типа Request в json-формат\n",
        "        # Сохраним результаты температур в формате json, чтобы ниже их визуализировать\n",
        "        result['city'] = city\n",
        "        measures = [{\"dt\": str(measure['dt']), \"temp\": str(measure['temp'])} for measure in req_obj[\"hourly\"]]\n",
        "        \n",
        "\n",
        "        result['temps'] = measures\n",
        "        return json.dumps(result)\n",
        "\n",
        "\n",
        "weather_data_json = getweather(api_key)\n"
      ],
      "execution_count": 9,
      "outputs": []
    },
    {
      "cell_type": "markdown",
      "metadata": {
        "id": "-QYGfDd6jT0g"
      },
      "source": [
        "При вызове этой функции, мы сможем использовать данные в формате json, которые она возвращает. Альтернативный подход - сразу же сформировать из этих данных корректный файл с данными в csv-формате (см. документацию https://docs.python.org/3/library/csv.html).\n",
        "\n",
        "__Перейдем к шагу 2:__\n",
        "визуализируем полученные данные с помощью matplotlib и типа диаграммы scatterplot."
      ]
    },
    {
      "cell_type": "code",
      "metadata": {
        "id": "8G9CL5nMNZFs",
        "colab": {
          "base_uri": "https://localhost:8080/",
          "height": 265
        },
        "outputId": "ca622bb0-eee4-4018-d7d6-1dfac3d1e227"
      },
      "source": [
        "def visualise_data(json_data=''):\n",
        "\n",
        "    if json_data:\n",
        "        import matplotlib.pyplot as pplt\n",
        "        import pandas\n",
        "        # Мы можем загрузить данные в пригодный для дальнейшей обработки формат\n",
        "        # с помощью метода read_json из pandas.\n",
        "        data = pandas.read_json(json_data)\n",
        "        # print(data)\n",
        "        city_name = data['city']\n",
        "\n",
        "        # получим отдельные столбцы с датами \n",
        "        dates = [_d['dt'] for _d in data['temps'][:]]\n",
        "        # и тепературами\n",
        "        temps = [_t['temp'] for _t in data['temps'][:]]\n",
        "\n",
        "        # построим их на диаграмме рассеяния\n",
        "        pplt.scatter(dates, temps)\n",
        "\n",
        "\n",
        "        pplt.show()\n",
        "\n",
        "        # построенный график необходимо оптимизировать:\n",
        "        #  - добавить название \n",
        "        #  - правильно расположить ось абсцисс\n",
        "        #  - упростить вывод дат (на этом графике они выводятся в формате unixtime)\n",
        "        #  - вывести более строгие значения для подписей осей абсцисс и ординат \n",
        "        #  (xticks, yticks)\n",
        "        # - добавить на график температуры остальных дат \n",
        "        # - добавить второй график со средними значениями\n",
        "\n",
        "visualise_data(weather_data_json)\n"
      ],
      "execution_count": 10,
      "outputs": [
        {
          "output_type": "display_data",
          "data": {
            "image/png": "[encoded data removed]",
            "text/plain": [
              "<Figure size 432x288 with 1 Axes>"
            ]
          },
          "metadata": {
            "needs_background": "light"
          }
        }
      ]
    },
    {
      "cell_type": "code",
      "metadata": {
        "colab": {
          "base_uri": "https://localhost:8080/",
          "height": 265
        },
        "id": "03Mi69Qn93bE",
        "outputId": "9a150268-3d51-4ad5-ace9-ade3d2fa9af1"
      },
      "source": [
        "# пример простой визуализации с использованием scatterplot / диаграммы рассеяния\n",
        "import matplotlib.pyplot as pplt\n",
        "\n",
        "\n",
        "dates, temps = ['01/11', '31/10', '30/10'], [6, 10.0, 14.0]\n",
        "pplt.scatter(dates, temps)\n",
        "pplt.show()"
      ],
      "execution_count": 11,
      "outputs": [
        {
          "output_type": "display_data",
          "data": {
            "image/png": "[encoded data removed]",
            "text/plain": [
              "<Figure size 432x288 with 1 Axes>"
            ]
          },
          "metadata": {
            "needs_background": "light"
          }
        }
      ]
    },
    {
      "cell_type": "markdown",
      "source": [
        "# Задание по matplotlib\n",
        "\n",
        "Построим точечный график прогноза погоды на следующие 5 дней."
      ],
      "metadata": {
        "id": "nLNu8zntOv-M"
      }
    },
    {
      "cell_type": "code",
      "source": [
        "from datetime import datetime\n",
        "\n",
        "def getweather(api_key=None):\n",
        "    import json\n",
        "    import requests\n",
        "    city, lat, lon = \"Saint Petersburg, RU\", 59.57, 30.19\n",
        "    api_key = '26f1cc6b039373fdded0b5855a718b65'\n",
        "    dt = 1640034315\n",
        "\n",
        "    if api_key:\n",
        "        \"\"\"\n",
        "        req = requests.get(\n",
        "            f'http://api.openweathermap.org/data/2.5/'\n",
        "            f'onecall/timemachine?lat={lat}&lon={lon}&'\n",
        "            f'appid={api_key}&type=day&cnt=5')\n",
        "        \"\"\"\n",
        "        req = requests.get(\"http://api.openweathermap.org/data/2.5/forecast\",\n",
        "                           params={'lat': lat, 'lon': lon, 'units': 'metric', 'lang': 'ru', 'APPID': api_key})\n",
        "        \n",
        "        data = req.json()\n",
        "        dates, temps = [], []\n",
        "        for i in data['list']:\n",
        "            temps.append(int('{0:+3.0f}'.format(i['main']['temp'])))\n",
        "            dates.append(datetime.utcfromtimestamp(i['dt']).strftime('%d/%m %H'))\n",
        "        \n",
        "        date, temp = [], []\n",
        "\n",
        "        for i in range(0, len(temps), 8):\n",
        "            temp.append(temps[i])\n",
        "            date.append(dates[i])\n",
        "\n",
        "        pplt.scatter(date, temp)\n",
        "        pplt.show()\n",
        "        \n",
        "    \n",
        "\n",
        "weather_data_json = getweather(api_key)\n"
      ],
      "metadata": {
        "colab": {
          "base_uri": "https://localhost:8080/",
          "height": 265
        },
        "id": "385-2vgpsbfW",
        "outputId": "c8563951-3f3b-466e-af81-066a27546099"
      },
      "execution_count": 54,
      "outputs": [
        {
          "output_type": "display_data",
          "data": {
            "image/png": "[encoded data removed]",
            "text/plain": [
              "<Figure size 432x288 with 1 Axes>"
            ]
          },
          "metadata": {
            "needs_background": "light"
          }
        }
      ]
    }
  ]
}